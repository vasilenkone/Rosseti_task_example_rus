{
 "cells": [
  {
   "cell_type": "markdown",
   "id": "26ded826",
   "metadata": {},
   "source": [
    "## Пример реальной задачи по выбору компаний для посещения на выставке"
   ]
  },
  {
   "cell_type": "markdown",
   "id": "a11301eb",
   "metadata": {},
   "source": [
    "**Формулировка задачи:** делегация руководителей российских компаний в сфере электроэнергетики планирует посетить техническую выставку, которая проходит в рамках крупного мероприятия \"Сессия СИГРЭ 2022\" (Париж, сентябрь 2022 г.). <br>  <br> Необходимо определить количество компаний на выставке по странам и дать рекомендации по посещению стендов  <br> (делегация не может посещать стенды компаний из недружественных стран, кроме компаний-партнеров)\n"
   ]
  },
  {
   "cell_type": "code",
   "execution_count": 122,
   "id": "1529f100",
   "metadata": {},
   "outputs": [],
   "source": [
    "import pandas as pd\n",
    "import seaborn as sns"
   ]
  },
  {
   "cell_type": "code",
   "execution_count": 123,
   "id": "38752b03",
   "metadata": {},
   "outputs": [],
   "source": [
    "df = pd.read_excel(r'CIGRE.xlsx')"
   ]
  },
  {
   "cell_type": "markdown",
   "id": "d5c03d53",
   "metadata": {},
   "source": [
    "*База данных по компаниям собрана с официального сайта Технической выставки СИГРЭ - [ссылка](https://www.cigre-exhibition.com/exhibitors/list-of-exhibitors-2022/)*\n"
   ]
  },
  {
   "cell_type": "code",
   "execution_count": 124,
   "id": "596a32b0",
   "metadata": {},
   "outputs": [
    {
     "data": {
      "text/html": [
       "<div>\n",
       "<style scoped>\n",
       "    .dataframe tbody tr th:only-of-type {\n",
       "        vertical-align: middle;\n",
       "    }\n",
       "\n",
       "    .dataframe tbody tr th {\n",
       "        vertical-align: top;\n",
       "    }\n",
       "\n",
       "    .dataframe thead th {\n",
       "        text-align: right;\n",
       "    }\n",
       "</style>\n",
       "<table border=\"1\" class=\"dataframe\">\n",
       "  <thead>\n",
       "    <tr style=\"text-align: right;\">\n",
       "      <th></th>\n",
       "      <th>№</th>\n",
       "      <th>Название компании</th>\n",
       "      <th>Страна</th>\n",
       "      <th>Номер стенда</th>\n",
       "      <th>Сайт</th>\n",
       "      <th>Партнер</th>\n",
       "    </tr>\n",
       "  </thead>\n",
       "  <tbody>\n",
       "    <tr>\n",
       "      <th>0</th>\n",
       "      <td>1</td>\n",
       "      <td>3M</td>\n",
       "      <td>Франция</td>\n",
       "      <td>S213</td>\n",
       "      <td>http://www.3m.com/3M/en_US/energy-us</td>\n",
       "      <td>NaN</td>\n",
       "    </tr>\n",
       "    <tr>\n",
       "      <th>1</th>\n",
       "      <td>2</td>\n",
       "      <td>3X ENGINEERING</td>\n",
       "      <td>Монако</td>\n",
       "      <td>S267</td>\n",
       "      <td>http://www.3xeng.com/</td>\n",
       "      <td>NaN</td>\n",
       "    </tr>\n",
       "    <tr>\n",
       "      <th>2</th>\n",
       "      <td>3</td>\n",
       "      <td>A. Eberle GmbH &amp; Co. KG</td>\n",
       "      <td>Германия</td>\n",
       "      <td>S353</td>\n",
       "      <td>http://www.a-eberle.de/en</td>\n",
       "      <td>NaN</td>\n",
       "    </tr>\n",
       "    <tr>\n",
       "      <th>3</th>\n",
       "      <td>4</td>\n",
       "      <td>Hammarprodukter</td>\n",
       "      <td>Швеция</td>\n",
       "      <td>S260</td>\n",
       "      <td>http://www.hammarprodukter.com/</td>\n",
       "      <td>NaN</td>\n",
       "    </tr>\n",
       "    <tr>\n",
       "      <th>4</th>\n",
       "      <td>5</td>\n",
       "      <td>ABB ELECTRIFICATION</td>\n",
       "      <td>Швейцария</td>\n",
       "      <td>S162</td>\n",
       "      <td>http://www.abb.com/electrification</td>\n",
       "      <td>NaN</td>\n",
       "    </tr>\n",
       "  </tbody>\n",
       "</table>\n",
       "</div>"
      ],
      "text/plain": [
       "   №        Название компании     Страна Номер стенда  \\\n",
       "0  1                       3M    Франция         S213   \n",
       "1  2           3X ENGINEERING     Монако         S267   \n",
       "2  3  A. Eberle GmbH & Co. KG   Германия         S353   \n",
       "3  4          Hammarprodukter     Швеция         S260   \n",
       "4  5      ABB ELECTRIFICATION  Швейцария         S162   \n",
       "\n",
       "                                   Сайт Партнер  \n",
       "0  http://www.3m.com/3M/en_US/energy-us     NaN  \n",
       "1                 http://www.3xeng.com/     NaN  \n",
       "2             http://www.a-eberle.de/en     NaN  \n",
       "3       http://www.hammarprodukter.com/     NaN  \n",
       "4    http://www.abb.com/electrification     NaN  "
      ]
     },
     "execution_count": 124,
     "metadata": {},
     "output_type": "execute_result"
    }
   ],
   "source": [
    "df.head()"
   ]
  },
  {
   "cell_type": "code",
   "execution_count": 125,
   "id": "e9cd3bc2",
   "metadata": {},
   "outputs": [
    {
     "data": {
      "text/plain": [
       "(339, 6)"
      ]
     },
     "execution_count": 125,
     "metadata": {},
     "output_type": "execute_result"
    }
   ],
   "source": [
    "df.shape"
   ]
  },
  {
   "cell_type": "code",
   "execution_count": 126,
   "id": "b30b7977",
   "metadata": {},
   "outputs": [
    {
     "data": {
      "text/plain": [
       "35"
      ]
     },
     "execution_count": 126,
     "metadata": {},
     "output_type": "execute_result"
    }
   ],
   "source": [
    "df['Страна'].nunique()"
   ]
  },
  {
   "cell_type": "code",
   "execution_count": 127,
   "id": "bd1a9a8d",
   "metadata": {},
   "outputs": [],
   "source": [
    "plot = df.groupby('Страна', as_index=False) \\\n",
    "       .agg('count').sort_values('№', ascending=False) \\\n",
    "       .reset_index().drop(columns={'index', 'Название компании', 'Номер стенда', 'Сайт', 'Партнер'}) \\\n",
    "       .rename(columns={'№':'Количество компаний'})"
   ]
  },
  {
   "cell_type": "code",
   "execution_count": 128,
   "id": "cf0877dc",
   "metadata": {},
   "outputs": [
    {
     "data": {
      "text/html": [
       "<div>\n",
       "<style scoped>\n",
       "    .dataframe tbody tr th:only-of-type {\n",
       "        vertical-align: middle;\n",
       "    }\n",
       "\n",
       "    .dataframe tbody tr th {\n",
       "        vertical-align: top;\n",
       "    }\n",
       "\n",
       "    .dataframe thead th {\n",
       "        text-align: right;\n",
       "    }\n",
       "</style>\n",
       "<table border=\"1\" class=\"dataframe\">\n",
       "  <thead>\n",
       "    <tr style=\"text-align: right;\">\n",
       "      <th></th>\n",
       "      <th>Страна</th>\n",
       "      <th>Количество компаний</th>\n",
       "    </tr>\n",
       "  </thead>\n",
       "  <tbody>\n",
       "    <tr>\n",
       "      <th>0</th>\n",
       "      <td>Франция</td>\n",
       "      <td>48</td>\n",
       "    </tr>\n",
       "    <tr>\n",
       "      <th>1</th>\n",
       "      <td>Германия</td>\n",
       "      <td>38</td>\n",
       "    </tr>\n",
       "    <tr>\n",
       "      <th>2</th>\n",
       "      <td>США</td>\n",
       "      <td>26</td>\n",
       "    </tr>\n",
       "    <tr>\n",
       "      <th>3</th>\n",
       "      <td>Швейцария</td>\n",
       "      <td>18</td>\n",
       "    </tr>\n",
       "    <tr>\n",
       "      <th>4</th>\n",
       "      <td>Великобритания</td>\n",
       "      <td>17</td>\n",
       "    </tr>\n",
       "  </tbody>\n",
       "</table>\n",
       "</div>"
      ],
      "text/plain": [
       "           Страна  Количество компаний\n",
       "0         Франция                   48\n",
       "1        Германия                   38\n",
       "2             США                   26\n",
       "3       Швейцария                   18\n",
       "4  Великобритания                   17"
      ]
     },
     "execution_count": 128,
     "metadata": {},
     "output_type": "execute_result"
    }
   ],
   "source": [
    "plot.head()"
   ]
  },
  {
   "cell_type": "code",
   "execution_count": 129,
   "id": "d7a6f95b",
   "metadata": {
    "scrolled": true
   },
   "outputs": [
    {
     "data": {
      "image/png": "[encoded data removed]",
      "text/html": [
       "<div style=\"vertical-align: middle;\"><strong>crest</strong> </div><div class=\"cmap\"><img alt=\"crest colormap\" title=\"crest\" style=\"border: 1px solid #555;\" src=\"data:image/png;base64,iVBORw0KGgoAAAANSUhEUgAAAgAAAABACAYAAABsv8+/AAAAFHRFWHRUaXRsZQBjcmVzdCBjb2xvcm1hcDDWw8gAAAAadEVYdERlc2NyaXB0aW9uAGNyZXN0IGNvbG9ybWFwzolqLgAAADB0RVh0QXV0aG9yAE1hdHBsb3RsaWIgdjMuNS4xLCBodHRwczovL21hdHBsb3RsaWIub3Jn97fOzwAAADJ0RVh0U29mdHdhcmUATWF0cGxvdGxpYiB2My41LjEsIGh0dHBzOi8vbWF0cGxvdGxpYi5vcmfZEVHoAAAB3UlEQVR4nO3WMXLbMBRAQcj3L3KIHCdnMlPEyoxBIWBkjZu320igwU/IbN7t568fxxhjHOOP4+PLdv3x+X7ad/u/OdP6PO9V57qvj+85x2L9fjx33249vjp3cX3M+zb3jc2++1+e/T37+a+Zd77++QGvn//4/Pcv2/dy9fdvz7H4navzPXuO077j4r6r8xbr1XOm9fL6ad7jQfPz5/vn55xfxG7/dJDF/tvT+x+f57aZ8/f+0wv49/zVOXfn38+7dv3y85bvabp/+X9e7JuONV9fz12c5+L9bwMAyBEAABAkAAAgSAAAQJAAAIAgAQAAQQIAAIIEAAAECQAACBIAABAkAAAgSAAAQJAAAIAgAQAAQQIAAIIEAAAECQAACBIAABAkAAAgSAAAQJAAAIAgAQAAQQIAAIIEAAAECQAACBIAABAkAAAgSAAAQJAAAIAgAQAAQQIAAIIEAAAECQAACBIAABAkAAAgSAAAQJAAAIAgAQAAQQIAAIIEAAAECQAACBIAABAkAAAgSAAAQJAAAIAgAQAAQQIAAIIEAAAECQAACBIAABAkAAAgSAAAQJAAAIAgAQAAQQIAAIIEAAAECQAACBIAABAkAAAgSAAAQJAAAIAgAQAAQQIAAIJ+A9tsQVtfMWhrAAAAAElFTkSuQmCC\"></div><div style=\"vertical-align: middle; max-width: 514px; display: flex; justify-content: space-between;\"><div style=\"float: left;\"><div title=\"#a5cd90ff\" style=\"display: inline-block; width: 1em; height: 1em; margin: 0; vertical-align: middle; border: 1px solid #555; background-color: #a5cd90ff;\"></div> under</div><div style=\"margin: 0 auto; display: inline-block;\">bad <div title=\"#00000000\" style=\"display: inline-block; width: 1em; height: 1em; margin: 0; vertical-align: middle; border: 1px solid #555; background-color: #00000000;\"></div></div><div style=\"float: right;\">over <div title=\"#2c3172ff\" style=\"display: inline-block; width: 1em; height: 1em; margin: 0; vertical-align: middle; border: 1px solid #555; background-color: #2c3172ff;\"></div></div>"
      ],
      "text/plain": [
       "<matplotlib.colors.ListedColormap at 0x1ac7a810ca0>"
      ]
     },
     "execution_count": 129,
     "metadata": {},
     "output_type": "execute_result"
    }
   ],
   "source": [
    "sns.color_palette(\"crest\", as_cmap=True)"
   ]
  },
  {
   "cell_type": "markdown",
   "id": "098db340",
   "metadata": {},
   "source": [
    "*Так как основной цвет Ассоциации СИГРЭ - зеленый, подобрана подходящая палитра для представления графика (просто для красоты)*"
   ]
  },
  {
   "cell_type": "code",
   "execution_count": 143,
   "id": "9f3225ed",
   "metadata": {
    "scrolled": true
   },
   "outputs": [
    {
     "data": {
      "image/png": "[encoded data removed]",
      "text/plain": [
       "<Figure size 1130.4x595.44 with 1 Axes>"
      ]
     },
     "metadata": {},
     "output_type": "display_data"
    }
   ],
   "source": [
    "fig = sns.barplot(x='Количество компаний', y='Страна', data=plot, palette='crest')\n",
    "fig.bar_label(fig.containers[0])\n",
    "plt.show()"
   ]
  },
  {
   "cell_type": "code",
   "execution_count": 146,
   "id": "5dcfec73",
   "metadata": {},
   "outputs": [],
   "source": [
    "fig.get_figure().savefig('plot1.png')"
   ]
  },
  {
   "cell_type": "code",
   "execution_count": 131,
   "id": "467dc45e",
   "metadata": {},
   "outputs": [],
   "source": [
    "filter_countries = ['Китай', 'Индия', 'Турция', 'Марокко', 'Катар', 'Иран', 'Бразилия', \"Кот-д'Ивуар\"]"
   ]
  },
  {
   "cell_type": "markdown",
   "id": "ac1e750f",
   "metadata": {},
   "source": [
    "Дружественные страны определялись вручную (исходя из ситуации)"
   ]
  },
  {
   "cell_type": "code",
   "execution_count": 137,
   "id": "b64e348e",
   "metadata": {},
   "outputs": [
    {
     "data": {
      "text/html": [
       "<div>\n",
       "<style scoped>\n",
       "    .dataframe tbody tr th:only-of-type {\n",
       "        vertical-align: middle;\n",
       "    }\n",
       "\n",
       "    .dataframe tbody tr th {\n",
       "        vertical-align: top;\n",
       "    }\n",
       "\n",
       "    .dataframe thead th {\n",
       "        text-align: right;\n",
       "    }\n",
       "</style>\n",
       "<table border=\"1\" class=\"dataframe\">\n",
       "  <thead>\n",
       "    <tr style=\"text-align: right;\">\n",
       "      <th></th>\n",
       "      <th>№</th>\n",
       "      <th>Название компании</th>\n",
       "      <th>Страна</th>\n",
       "      <th>Номер стенда</th>\n",
       "      <th>Сайт</th>\n",
       "      <th>Партнер</th>\n",
       "    </tr>\n",
       "  </thead>\n",
       "  <tbody>\n",
       "    <tr>\n",
       "      <th>37</th>\n",
       "      <td>38</td>\n",
       "      <td>CIGRE NGN</td>\n",
       "      <td>Франция</td>\n",
       "      <td>Exhibition floor</td>\n",
       "      <td>http://session.cigre.org/ngn-showcase</td>\n",
       "      <td>Да</td>\n",
       "    </tr>\n",
       "    <tr>\n",
       "      <th>62</th>\n",
       "      <td>63</td>\n",
       "      <td>Électricité de France (EDF)</td>\n",
       "      <td>Франция</td>\n",
       "      <td>S163</td>\n",
       "      <td>http://www.edf.fr/</td>\n",
       "      <td>Да</td>\n",
       "    </tr>\n",
       "    <tr>\n",
       "      <th>130</th>\n",
       "      <td>131</td>\n",
       "      <td>Korea Electric Power Corporation (KEPCO)</td>\n",
       "      <td>Южная Корея</td>\n",
       "      <td>S244</td>\n",
       "      <td>http://home.kepco.co.kr/kepco/main.do</td>\n",
       "      <td>Да</td>\n",
       "    </tr>\n",
       "    <tr>\n",
       "      <th>142</th>\n",
       "      <td>143</td>\n",
       "      <td>LS Electric</td>\n",
       "      <td>Южная Корея</td>\n",
       "      <td>S154</td>\n",
       "      <td>http://www.ls-electric.com/</td>\n",
       "      <td>Да</td>\n",
       "    </tr>\n",
       "    <tr>\n",
       "      <th>162</th>\n",
       "      <td>163</td>\n",
       "      <td>Monenco Iran</td>\n",
       "      <td>Иран</td>\n",
       "      <td>S178A</td>\n",
       "      <td>http://www.monencogroup.com/</td>\n",
       "      <td>Да</td>\n",
       "    </tr>\n",
       "    <tr>\n",
       "      <th>213</th>\n",
       "      <td>214</td>\n",
       "      <td>Prysmian Group</td>\n",
       "      <td>Италия</td>\n",
       "      <td>S237</td>\n",
       "      <td>http://www.prysmiangroup.com/</td>\n",
       "      <td>Да</td>\n",
       "    </tr>\n",
       "    <tr>\n",
       "      <th>249</th>\n",
       "      <td>250</td>\n",
       "      <td>SHANGHAI HUAMING POWER EQUIPMENT CO., LTD.</td>\n",
       "      <td>Китай</td>\n",
       "      <td>S326</td>\n",
       "      <td>http://www.huaming.com/</td>\n",
       "      <td>Да</td>\n",
       "    </tr>\n",
       "    <tr>\n",
       "      <th>267</th>\n",
       "      <td>268</td>\n",
       "      <td>Streamer Electric AG</td>\n",
       "      <td>Швейцария</td>\n",
       "      <td>S104</td>\n",
       "      <td>http://www.streamer-electric.com/</td>\n",
       "      <td>Да</td>\n",
       "    </tr>\n",
       "    <tr>\n",
       "      <th>290</th>\n",
       "      <td>291</td>\n",
       "      <td>Zhejiang Chint Electrics CO, LTD</td>\n",
       "      <td>Китай</td>\n",
       "      <td>S138</td>\n",
       "      <td>http://www.chint.com/</td>\n",
       "      <td>Да</td>\n",
       "    </tr>\n",
       "  </tbody>\n",
       "</table>\n",
       "</div>"
      ],
      "text/plain": [
       "       №                           Название компании       Страна  \\\n",
       "37    38                                   CIGRE NGN      Франция   \n",
       "62    63                 Électricité de France (EDF)      Франция   \n",
       "130  131    Korea Electric Power Corporation (KEPCO)  Южная Корея   \n",
       "142  143                                 LS Electric  Южная Корея   \n",
       "162  163                                Monenco Iran         Иран   \n",
       "213  214                              Prysmian Group       Италия   \n",
       "249  250  SHANGHAI HUAMING POWER EQUIPMENT CO., LTD.        Китай   \n",
       "267  268                        Streamer Electric AG    Швейцария   \n",
       "290  291            Zhejiang Chint Electrics CO, LTD        Китай   \n",
       "\n",
       "         Номер стенда                                   Сайт Партнер  \n",
       "37   Exhibition floor  http://session.cigre.org/ngn-showcase      Да  \n",
       "62               S163                     http://www.edf.fr/      Да  \n",
       "130              S244  http://home.kepco.co.kr/kepco/main.do      Да  \n",
       "142              S154            http://www.ls-electric.com/      Да  \n",
       "162             S178A           http://www.monencogroup.com/      Да  \n",
       "213              S237          http://www.prysmiangroup.com/      Да  \n",
       "249              S326                http://www.huaming.com/      Да  \n",
       "267              S104      http://www.streamer-electric.com/      Да  \n",
       "290              S138                  http://www.chint.com/      Да  "
      ]
     },
     "execution_count": 137,
     "metadata": {},
     "output_type": "execute_result"
    }
   ],
   "source": [
    "df[df['Партнер'] == 'Да']"
   ]
  },
  {
   "cell_type": "markdown",
   "id": "221f0b5e",
   "metadata": {},
   "source": [
    "Из таблицы видно, что компании-партнеры могут быть не из дружественных стран. Поэтому мы фильтруем итоговый датафрейм с двумя условиями \"дружественная страна\" + \"компания-партнер\""
   ]
  },
  {
   "cell_type": "code",
   "execution_count": 138,
   "id": "c8263b5c",
   "metadata": {},
   "outputs": [],
   "source": [
    "df_result = df[(df['Страна'].isin(filter_countries) | (df['Партнер'] == 'Да'))].fillna('').reset_index(drop = True)"
   ]
  },
  {
   "cell_type": "code",
   "execution_count": 139,
   "id": "6cc2594e",
   "metadata": {},
   "outputs": [],
   "source": [
    "df_result['№'] = np.arange(1, len(df2) + 1)"
   ]
  },
  {
   "cell_type": "code",
   "execution_count": 142,
   "id": "ba360f0d",
   "metadata": {},
   "outputs": [
    {
     "data": {
      "text/html": [
       "<div>\n",
       "<style scoped>\n",
       "    .dataframe tbody tr th:only-of-type {\n",
       "        vertical-align: middle;\n",
       "    }\n",
       "\n",
       "    .dataframe tbody tr th {\n",
       "        vertical-align: top;\n",
       "    }\n",
       "\n",
       "    .dataframe thead th {\n",
       "        text-align: right;\n",
       "    }\n",
       "</style>\n",
       "<table border=\"1\" class=\"dataframe\">\n",
       "  <thead>\n",
       "    <tr style=\"text-align: right;\">\n",
       "      <th></th>\n",
       "      <th>№</th>\n",
       "      <th>Название компании</th>\n",
       "      <th>Страна</th>\n",
       "      <th>Номер стенда</th>\n",
       "      <th>Сайт</th>\n",
       "      <th>Партнер</th>\n",
       "    </tr>\n",
       "  </thead>\n",
       "  <tbody>\n",
       "    <tr>\n",
       "      <th>0</th>\n",
       "      <td>1</td>\n",
       "      <td>APUA</td>\n",
       "      <td>Кот-д'Ивуар</td>\n",
       "      <td>S207</td>\n",
       "      <td>http://www.apua-asea.org/</td>\n",
       "      <td></td>\n",
       "    </tr>\n",
       "    <tr>\n",
       "      <th>1</th>\n",
       "      <td>2</td>\n",
       "      <td>ASHIDA ELECTRONICS PVT LTD</td>\n",
       "      <td>Индия</td>\n",
       "      <td>S127A</td>\n",
       "      <td>http://www.ashidaelectronics.com/</td>\n",
       "      <td></td>\n",
       "    </tr>\n",
       "    <tr>\n",
       "      <th>2</th>\n",
       "      <td>3</td>\n",
       "      <td>CCIPT Machinery Sub Council</td>\n",
       "      <td>Китай</td>\n",
       "      <td>Exhibition floor</td>\n",
       "      <td>http://www.chinamachine.org.cn/</td>\n",
       "      <td></td>\n",
       "    </tr>\n",
       "    <tr>\n",
       "      <th>3</th>\n",
       "      <td>4</td>\n",
       "      <td>CEEIA</td>\n",
       "      <td>Китай</td>\n",
       "      <td>Exhibition floor</td>\n",
       "      <td>http://www.ceeia.com/</td>\n",
       "      <td></td>\n",
       "    </tr>\n",
       "    <tr>\n",
       "      <th>4</th>\n",
       "      <td>5</td>\n",
       "      <td>CIGRE GCC Symposium 2022 Oman (Mascate)</td>\n",
       "      <td>Катар</td>\n",
       "      <td>S185</td>\n",
       "      <td>http://www.cigre-gcc.org/</td>\n",
       "      <td></td>\n",
       "    </tr>\n",
       "    <tr>\n",
       "      <th>5</th>\n",
       "      <td>6</td>\n",
       "      <td>CIGRE NGN</td>\n",
       "      <td>Франция</td>\n",
       "      <td>Exhibition floor</td>\n",
       "      <td>http://session.cigre.org/ngn-showcase</td>\n",
       "      <td>Да</td>\n",
       "    </tr>\n",
       "    <tr>\n",
       "      <th>6</th>\n",
       "      <td>7</td>\n",
       "      <td>CMS</td>\n",
       "      <td>Марокко</td>\n",
       "      <td>S123A</td>\n",
       "      <td>http://www.cmscompany.net/</td>\n",
       "      <td></td>\n",
       "    </tr>\n",
       "    <tr>\n",
       "      <th>7</th>\n",
       "      <td>8</td>\n",
       "      <td>CTR Manufacturing Industries Pvt. Ltd.</td>\n",
       "      <td>Индия</td>\n",
       "      <td>S106</td>\n",
       "      <td>http://www.ctr.in/</td>\n",
       "      <td></td>\n",
       "    </tr>\n",
       "    <tr>\n",
       "      <th>8</th>\n",
       "      <td>9</td>\n",
       "      <td>Électricité de France (EDF)</td>\n",
       "      <td>Франция</td>\n",
       "      <td>S163</td>\n",
       "      <td>http://www.edf.fr/</td>\n",
       "      <td>Да</td>\n",
       "    </tr>\n",
       "    <tr>\n",
       "      <th>9</th>\n",
       "      <td>10</td>\n",
       "      <td>Electric Power Research Institute of China Sou...</td>\n",
       "      <td>Китай</td>\n",
       "      <td>S316B</td>\n",
       "      <td>http://eng.csg.cn/home/</td>\n",
       "      <td></td>\n",
       "    </tr>\n",
       "  </tbody>\n",
       "</table>\n",
       "</div>"
      ],
      "text/plain": [
       "    №                                  Название компании       Страна  \\\n",
       "0   1                                               APUA  Кот-д'Ивуар   \n",
       "1   2                         ASHIDA ELECTRONICS PVT LTD        Индия   \n",
       "2   3                        CCIPT Machinery Sub Council        Китай   \n",
       "3   4                                              CEEIA        Китай   \n",
       "4   5            CIGRE GCC Symposium 2022 Oman (Mascate)        Катар   \n",
       "5   6                                          CIGRE NGN      Франция   \n",
       "6   7                                                CMS      Марокко   \n",
       "7   8             CTR Manufacturing Industries Pvt. Ltd.        Индия   \n",
       "8   9                        Électricité de France (EDF)      Франция   \n",
       "9  10  Electric Power Research Institute of China Sou...        Китай   \n",
       "\n",
       "       Номер стенда                                   Сайт Партнер  \n",
       "0              S207              http://www.apua-asea.org/          \n",
       "1             S127A      http://www.ashidaelectronics.com/          \n",
       "2  Exhibition floor        http://www.chinamachine.org.cn/          \n",
       "3  Exhibition floor                  http://www.ceeia.com/          \n",
       "4              S185              http://www.cigre-gcc.org/          \n",
       "5  Exhibition floor  http://session.cigre.org/ngn-showcase      Да  \n",
       "6             S123A             http://www.cmscompany.net/          \n",
       "7              S106                     http://www.ctr.in/          \n",
       "8              S163                     http://www.edf.fr/      Да  \n",
       "9             S316B                http://eng.csg.cn/home/          "
      ]
     },
     "execution_count": 142,
     "metadata": {},
     "output_type": "execute_result"
    }
   ],
   "source": [
    "df_result.head(10)"
   ]
  },
  {
   "cell_type": "code",
   "execution_count": 149,
   "id": "dfd79f93",
   "metadata": {},
   "outputs": [
    {
     "data": {
      "text/plain": [
       "(38, 6)"
      ]
     },
     "execution_count": 149,
     "metadata": {},
     "output_type": "execute_result"
    }
   ],
   "source": [
    "df_result.shape"
   ]
  },
  {
   "cell_type": "code",
   "execution_count": 141,
   "id": "50ae6e6a",
   "metadata": {},
   "outputs": [],
   "source": [
    "df_result.to_excel(\"output.xlsx\")  "
   ]
  },
  {
   "cell_type": "markdown",
   "id": "d2720a70",
   "metadata": {},
   "source": [
    "В результате сформирован список 38 компаний, стенды которых потенциально можно посетить. Результаты выгружены для принятия дальнейшего решения визиту/организации встречи с конкретной компанией"
   ]
  },
  {
   "cell_type": "code",
   "execution_count": null,
   "id": "6e5e2b27",
   "metadata": {},
   "outputs": [],
   "source": []
  }
 ],
 "metadata": {
  "kernelspec": {
   "display_name": "Python 3 (ipykernel)",
   "language": "python",
   "name": "python3"
  },
  "language_info": {
   "codemirror_mode": {
    "name": "ipython",
    "version": 3
   },
   "file_extension": ".py",
   "mimetype": "text/x-python",
   "name": "python",
   "nbconvert_exporter": "python",
   "pygments_lexer": "ipython3",
   "version": "3.9.12"
  }
 },
 "nbformat": 4,
 "nbformat_minor": 5
}
